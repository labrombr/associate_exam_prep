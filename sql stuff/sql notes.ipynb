{
 "cells": [
  {
   "cell_type": "markdown",
   "metadata": {
    "application/vnd.databricks.v1+cell": {
     "cellMetadata": {},
     "inputWidgets": {},
     "nuid": "7920b52a-bafa-4b12-86b1-407096bdf23a",
     "showTitle": false,
     "tableResultSettingsMap": {},
     "title": ""
    }
   },
   "source": [
    "# Syntax examples"
   ]
  },
  {
   "cell_type": "markdown",
   "metadata": {
    "application/vnd.databricks.v1+cell": {
     "cellMetadata": {},
     "inputWidgets": {},
     "nuid": "d84d9005-fa1b-4a38-8f3e-ed5dab95ce5a",
     "showTitle": false,
     "tableResultSettingsMap": {},
     "title": ""
    }
   },
   "source": [
    "## Sample Data\n",
    "Run the cell below to provide sample data for the examples in this section\n"
   ]
  },
  {
   "cell_type": "code",
   "execution_count": 0,
   "metadata": {
    "application/vnd.databricks.v1+cell": {
     "cellMetadata": {
      "byteLimit": 2048000,
      "rowLimit": 10000
     },
     "inputWidgets": {},
     "nuid": "bbae50c0-2493-48bc-999b-a9711894501b",
     "showTitle": false,
     "tableResultSettingsMap": {},
     "title": ""
    }
   },
   "outputs": [],
   "source": [
    "DROP TABLE IF EXISTS diamonds;\n",
    "CREATE TABLE IF NOT EXISTS diamonds (\n",
    "    carat FLOAT,\n",
    "    cut STRING,\n",
    "    color STRING,\n",
    "    clarity STRING\n",
    ");\n",
    "\n",
    "INSERT INTO diamonds (carat, cut, color, clarity) VALUES\n",
    "(0.23, 'Ideal', 'E', 'SI2'),\n",
    "(0.21, 'Premium', 'E', 'SI1'),\n",
    "(0.23, 'Good', 'E', 'VS1'),\n",
    "(0.29, 'Premium', 'I', 'VS2'),\n",
    "(0.31, 'Good', 'J', 'SI2');"
   ]
  },
  {
   "cell_type": "markdown",
   "metadata": {
    "application/vnd.databricks.v1+cell": {
     "cellMetadata": {},
     "inputWidgets": {},
     "nuid": "08c19d23-3a8d-4041-857a-d8698ea60185",
     "showTitle": false,
     "tableResultSettingsMap": {},
     "title": ""
    }
   },
   "source": [
    "## Table comments"
   ]
  },
  {
   "cell_type": "code",
   "execution_count": 0,
   "metadata": {
    "application/vnd.databricks.v1+cell": {
     "cellMetadata": {
      "byteLimit": 2048000,
      "implicitDf": true,
      "rowLimit": 10000
     },
     "inputWidgets": {},
     "nuid": "e64a67a6-ed95-489b-b7e5-ef909bbfbf05",
     "showTitle": false,
     "tableResultSettingsMap": {},
     "title": ""
    }
   },
   "outputs": [],
   "source": [
    "%sql\n",
    "--note you will need a table called diamonds to run this\n",
    "use default;\n",
    "Create table more_diamonds\n",
    "comment \"This is a table with more diamonds\"\n",
    "as select * from diamonds"
   ]
  },
  {
   "cell_type": "markdown",
   "metadata": {
    "application/vnd.databricks.v1+cell": {
     "cellMetadata": {},
     "inputWidgets": {},
     "nuid": "08bdb54c-a385-4cd4-abad-33bccf8e6ea1",
     "showTitle": false,
     "tableResultSettingsMap": {},
     "title": ""
    }
   },
   "source": [
    "## UDF Example"
   ]
  },
  {
   "cell_type": "code",
   "execution_count": 0,
   "metadata": {
    "application/vnd.databricks.v1+cell": {
     "cellMetadata": {
      "byteLimit": 2048000,
      "implicitDf": true,
      "rowLimit": 10000
     },
     "inputWidgets": {},
     "nuid": "3b10ef29-2270-4edc-9bf3-294f83124953",
     "showTitle": false,
     "tableResultSettingsMap": {},
     "title": ""
    }
   },
   "outputs": [],
   "source": [
    "--Create a function\n",
    "create function if not exists plus_one(x int) \n",
    "returns integer\n",
    "return x + 1;\n",
    "\n",
    "--Invoke the function, note if the function is stored in a schema other than default you will need to specify the schema name when invoking the function\n",
    "select plus_one(10);"
   ]
  },
  {
   "cell_type": "markdown",
   "metadata": {
    "application/vnd.databricks.v1+cell": {
     "cellMetadata": {},
     "inputWidgets": {},
     "nuid": "5ef62475-f03a-4a55-8a99-a4a61795d880",
     "showTitle": false,
     "tableResultSettingsMap": {},
     "title": ""
    }
   },
   "source": [
    "# Arrays"
   ]
  },
  {
   "cell_type": "markdown",
   "metadata": {
    "application/vnd.databricks.v1+cell": {
     "cellMetadata": {},
     "inputWidgets": {},
     "nuid": "74e31cb7-1fab-41fb-88fc-221b647c4823",
     "showTitle": false,
     "tableResultSettingsMap": {},
     "title": ""
    }
   },
   "source": [
    "## Sample Array Data\n",
    "Run the cell below to provide sample data for the examples in this section"
   ]
  },
  {
   "cell_type": "code",
   "execution_count": 0,
   "metadata": {
    "application/vnd.databricks.v1+cell": {
     "cellMetadata": {
      "byteLimit": 2048000,
      "rowLimit": 10000
     },
     "inputWidgets": {},
     "nuid": "b214e2c7-b838-4472-bf12-1d2a63ccb6a2",
     "showTitle": false,
     "tableResultSettingsMap": {},
     "title": ""
    }
   },
   "outputs": [],
   "source": [
    "-- create an array table \n",
    "drop table if exists faculty;\n",
    "CREATE TABLE if not exists faculty (\n",
    "    faculty_id INT,\n",
    "    faculty_name VARCHAR(100),\n",
    "    students ARRAY<STRUCT<student_id INT, total_no_of_courses INT>>\n",
    ");\n",
    "\n",
    "INSERT INTO faculty (faculty_id, faculty_name, students) VALUES\n",
    "(1, 'Dr. Smith', ARRAY(STRUCT(101, 5), STRUCT(102, 3))),\n",
    "(2, 'Dr. Johnson', ARRAY(STRUCT(103, 4), STRUCT(104, 2))),\n",
    "(3, 'Dr. Williams', ARRAY(STRUCT(105, 6), STRUCT(106, 1)));\n",
    "\n",
    "select * from faculty"
   ]
  },
  {
   "cell_type": "markdown",
   "metadata": {
    "application/vnd.databricks.v1+cell": {
     "cellMetadata": {},
     "inputWidgets": {},
     "nuid": "d111badb-fdc4-446e-932a-64d599672344",
     "showTitle": false,
     "tableResultSettingsMap": {},
     "title": ""
    }
   },
   "source": [
    "## Filtering Arrays"
   ]
  },
  {
   "cell_type": "code",
   "execution_count": 0,
   "metadata": {
    "application/vnd.databricks.v1+cell": {
     "cellMetadata": {
      "byteLimit": 2048000,
      "rowLimit": 10000
     },
     "inputWidgets": {},
     "nuid": "b1bd84ba-c1a4-41b3-8d8a-0435db70f680",
     "showTitle": false,
     "tableResultSettingsMap": {},
     "title": ""
    }
   },
   "outputs": [],
   "source": [
    "\n",
    "--transform evaluutes the lambda function for each element in the array\n",
    "select \n",
    "  faculty_id,\n",
    "  students,\n",
    "  transform(students, i -> i.total_no_of_courses <3) as student_low_enrolments\n",
    "from faculty;\n",
    "\n",
    "--filter returns only the elements which match the criteria\n",
    "select \n",
    "  faculty_id,\n",
    "  students,\n",
    "  filter(students, i -> i.total_no_of_courses <3) as student_low_enrolments\n",
    "from faculty;"
   ]
  }
 ],
 "metadata": {
  "application/vnd.databricks.v1+notebook": {
   "computePreferences": null,
   "dashboards": [],
   "environmentMetadata": {
    "base_environment": "",
    "environment_version": "2"
   },
   "inputWidgetPreferences": null,
   "language": "sql",
   "notebookMetadata": {
    "mostRecentlyExecutedCommandWithImplicitDF": {
     "commandId": -1,
     "dataframes": [
      "_sqldf"
     ]
    },
    "pythonIndentUnit": 4
   },
   "notebookName": "sql notes",
   "widgets": {}
  },
  "language_info": {
   "name": "sql"
  }
 },
 "nbformat": 4,
 "nbformat_minor": 0
}
